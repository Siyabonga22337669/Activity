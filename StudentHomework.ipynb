{
  "nbformat": 4,
  "nbformat_minor": 0,
  "metadata": {
    "colab": {
      "provenance": [],
      "authorship_tag": "ABX9TyNRt4Oc6FVlWy1HWSWNEQll",
      "include_colab_link": true
    },
    "kernelspec": {
      "name": "python3",
      "display_name": "Python 3"
    },
    "language_info": {
      "name": "python"
    }
  },
  "cells": [
    {
      "cell_type": "markdown",
      "metadata": {
        "id": "view-in-github",
        "colab_type": "text"
      },
      "source": [
        "<a href=\"https://colab.research.google.com/github/Siyabonga22337669/Activity/blob/main/StudentHomework.ipynb\" target=\"_parent\"><img src=\"https://colab.research.google.com/assets/colab-badge.svg\" alt=\"Open In Colab\"/></a>"
      ]
    },
    {
      "cell_type": "code",
      "source": [
        "from google.colab import drive\n",
        "drive.mount('/content/drive')\n"
      ],
      "metadata": {
        "colab": {
          "base_uri": "https://localhost:8080/"
        },
        "id": "biCgyTfWBhZF",
        "outputId": "b42c7357-409a-4951-8005-3dcaec9f407c"
      },
      "execution_count": null,
      "outputs": [
        {
          "output_type": "stream",
          "name": "stdout",
          "text": [
            "Drive already mounted at /content/drive; to attempt to forcibly remount, call drive.mount(\"/content/drive\", force_remount=True).\n"
          ]
        }
      ]
    },
    {
      "cell_type": "markdown",
      "source": [
        "inserting the data set from the drive"
      ],
      "metadata": {
        "id": "4CN-nPtDPnSn"
      }
    },
    {
      "cell_type": "code",
      "source": [
        "import zipfile\n",
        "import os\n",
        "zip_path = '/content/drive/My Drive/healthDataset.zip'\n",
        "extract_path = '/content/healthDataset'\n",
        "\n",
        "with zipfile.ZipFile(zip_path, 'r') as zip_ref:\n",
        "    zip_ref.extractall(extract_path)\n",
        "\n",
        "    print(\"Extracted files:\")\n",
        "    print(os.listdir(extract_path))\n",
        "\n"
      ],
      "metadata": {
        "colab": {
          "base_uri": "https://localhost:8080/"
        },
        "id": "Bi9pX4caB6Xc",
        "outputId": "49651e6f-3b16-4527-a659-730d2955b3cc"
      },
      "execution_count": null,
      "outputs": [
        {
          "output_type": "stream",
          "name": "stdout",
          "text": [
            "Extracted files:\n",
            "['appointments.csv', 'treatments.csv', 'patients.csv', 'billing.csv', 'doctors.csv']\n"
          ]
        }
      ]
    },
    {
      "cell_type": "code",
      "source": [
        "import os\n",
        "import pandas as pd\n",
        "\n",
        "files = os.listdir(extract_path)\n",
        "print(\"Files found:\", files)\n",
        "csv_files = [f for f in files if f.endswith('.csv')]\n",
        "print(\"CSV files:\", csv_files)\n",
        "\n",
        "dataframes = {}\n",
        "for csv_file in csv_files:\n",
        "    file_path = os.path.join(extract_path, csv_file)\n",
        "    df_name = os.path.splitext(csv_file)[0]\n",
        "    dataframes[df_name] = pd.read_csv(file_path)\n",
        "    print(f\"Loaded {csv_file} with shape {dataframes[df_name].shape}\")\n",
        "\n",
        "print(dataframes['appointments'].head())\n",
        "print(dataframes['treatments'].head())\n",
        "print(dataframes['patients'].head())\n",
        "print(dataframes['billing'].head())\n",
        "print(dataframes['doctors'].head())"
      ],
      "metadata": {
        "colab": {
          "base_uri": "https://localhost:8080/"
        },
        "id": "oPz5b1goJlEc",
        "outputId": "f01552a3-6650-4bc9-b7e8-35f9cb6ffc3e"
      },
      "execution_count": null,
      "outputs": [
        {
          "output_type": "stream",
          "name": "stdout",
          "text": [
            "Files found: ['appointments.csv', 'treatments.csv', 'patients.csv', 'billing.csv', 'doctors.csv']\n",
            "CSV files: ['appointments.csv', 'treatments.csv', 'patients.csv', 'billing.csv', 'doctors.csv']\n",
            "Loaded appointments.csv with shape (200, 7)\n",
            "Loaded treatments.csv with shape (200, 6)\n",
            "Loaded patients.csv with shape (50, 11)\n",
            "Loaded billing.csv with shape (200, 7)\n",
            "Loaded doctors.csv with shape (10, 8)\n",
            "  appointment_id patient_id doctor_id appointment_date appointment_time  \\\n",
            "0           A001       P034      D009       2023-08-09         15:15:00   \n",
            "1           A002       P032      D004       2023-06-09         14:30:00   \n",
            "2           A003       P048      D004       2023-06-28          8:00:00   \n",
            "3           A004       P025      D006       2023-09-01          9:15:00   \n",
            "4           A005       P040      D003       2023-07-06         12:45:00   \n",
            "\n",
            "  reason_for_visit     status  \n",
            "0          Therapy  Scheduled  \n",
            "1          Therapy    No-show  \n",
            "2     Consultation  Cancelled  \n",
            "3     Consultation  Cancelled  \n",
            "4        Emergency    No-show  \n",
            "  treatment_id appointment_id treatment_type         description     cost  \\\n",
            "0         T001           A001   Chemotherapy     Basic screening  3941.97   \n",
            "1         T002           A002            MRI   Advanced protocol  4158.44   \n",
            "2         T003           A003            MRI  Standard procedure  3731.55   \n",
            "3         T004           A004            MRI     Basic screening  4799.86   \n",
            "4         T005           A005            ECG  Standard procedure   582.05   \n",
            "\n",
            "  treatment_date  \n",
            "0     2023-08-09  \n",
            "1     2023-06-09  \n",
            "2     2023-06-28  \n",
            "3     2023-09-01  \n",
            "4     2023-07-06  \n",
            "  patient_id first_name last_name gender date_of_birth  contact_number  \\\n",
            "0       P001      David  Williams      F    1955-06-04      6939585183   \n",
            "1       P002      Emily     Smith      F    1984-10-12      8228188767   \n",
            "2       P003      Laura     Jones      M    1977-08-21      8397029847   \n",
            "3       P004    Michael   Johnson      F    1981-02-20      9019443432   \n",
            "4       P005      David    Wilson      M    1960-06-23      7734463155   \n",
            "\n",
            "        address registration_date insurance_provider insurance_number  \\\n",
            "0   789 Pine Rd        2022-06-23       WellnessCorp        INS840674   \n",
            "1  321 Maple Dr        2022-01-15        PulseSecure        INS354079   \n",
            "2  321 Maple Dr        2022-02-07        PulseSecure        INS650929   \n",
            "3    123 Elm St        2021-03-02        HealthIndia        INS789944   \n",
            "4    123 Elm St        2021-09-29       MedCare Plus        INS788105   \n",
            "\n",
            "                      email  \n",
            "0   david.williams@mail.com  \n",
            "1      emily.smith@mail.com  \n",
            "2      laura.jones@mail.com  \n",
            "3  michael.johnson@mail.com  \n",
            "4     david.wilson@mail.com  \n",
            "  bill_id patient_id treatment_id   bill_date   amount payment_method  \\\n",
            "0    B001       P034         T001  2023-08-09  3941.97      Insurance   \n",
            "1    B002       P032         T002  2023-06-09  4158.44      Insurance   \n",
            "2    B003       P048         T003  2023-06-28  3731.55      Insurance   \n",
            "3    B004       P025         T004  2023-09-01  4799.86      Insurance   \n",
            "4    B005       P040         T005  2023-07-06   582.05    Credit Card   \n",
            "\n",
            "  payment_status  \n",
            "0        Pending  \n",
            "1           Paid  \n",
            "2           Paid  \n",
            "3         Failed  \n",
            "4        Pending  \n",
            "  doctor_id first_name last_name specialization  phone_number  \\\n",
            "0      D001      David    Taylor    Dermatology    8322010158   \n",
            "1      D002       Jane     Davis     Pediatrics    9004382050   \n",
            "2      D003       Jane     Smith     Pediatrics    8737740598   \n",
            "3      D004      David     Jones     Pediatrics    6594221991   \n",
            "4      D005      Sarah    Taylor    Dermatology    9118538547   \n",
            "\n",
            "   years_experience   hospital_branch                         email  \n",
            "0                17   Westside Clinic  dr.david.taylor@hospital.com  \n",
            "1                24   Eastside Clinic    dr.jane.davis@hospital.com  \n",
            "2                19   Eastside Clinic    dr.jane.smith@hospital.com  \n",
            "3                28  Central Hospital   dr.david.jones@hospital.com  \n",
            "4                26  Central Hospital  dr.sarah.taylor@hospital.com  \n"
          ]
        }
      ]
    },
    {
      "cell_type": "markdown",
      "source": [
        "Cleaning the data set"
      ],
      "metadata": {
        "id": "-Fk3OteCPkd_"
      }
    },
    {
      "cell_type": "code",
      "source": [
        "for name, df in dataframes.items():\n",
        "    print(f\"--- {name.upper()} ---\")\n",
        "    print(df.info())\n",
        "    print(df.head(), \"\\n\")\n"
      ],
      "metadata": {
        "colab": {
          "base_uri": "https://localhost:8080/"
        },
        "id": "s1D4gfOdQL42",
        "outputId": "25008709-d69d-4414-b7a7-d9b8424e55f4",
        "collapsed": true
      },
      "execution_count": null,
      "outputs": [
        {
          "output_type": "stream",
          "name": "stdout",
          "text": [
            "--- APPOINTMENTS ---\n",
            "<class 'pandas.core.frame.DataFrame'>\n",
            "RangeIndex: 200 entries, 0 to 199\n",
            "Data columns (total 7 columns):\n",
            " #   Column            Non-Null Count  Dtype \n",
            "---  ------            --------------  ----- \n",
            " 0   appointment_id    200 non-null    object\n",
            " 1   patient_id        200 non-null    object\n",
            " 2   doctor_id         200 non-null    object\n",
            " 3   appointment_date  200 non-null    object\n",
            " 4   appointment_time  200 non-null    object\n",
            " 5   reason_for_visit  200 non-null    object\n",
            " 6   status            200 non-null    object\n",
            "dtypes: object(7)\n",
            "memory usage: 11.1+ KB\n",
            "None\n",
            "  appointment_id patient_id doctor_id appointment_date appointment_time  \\\n",
            "0           A001       P034      D009       2023-08-09         15:15:00   \n",
            "1           A002       P032      D004       2023-06-09         14:30:00   \n",
            "2           A003       P048      D004       2023-06-28          8:00:00   \n",
            "3           A004       P025      D006       2023-09-01          9:15:00   \n",
            "4           A005       P040      D003       2023-07-06         12:45:00   \n",
            "\n",
            "  reason_for_visit     status  \n",
            "0          Therapy  Scheduled  \n",
            "1          Therapy    No-show  \n",
            "2     Consultation  Cancelled  \n",
            "3     Consultation  Cancelled  \n",
            "4        Emergency    No-show   \n",
            "\n",
            "--- TREATMENTS ---\n",
            "<class 'pandas.core.frame.DataFrame'>\n",
            "RangeIndex: 200 entries, 0 to 199\n",
            "Data columns (total 6 columns):\n",
            " #   Column          Non-Null Count  Dtype  \n",
            "---  ------          --------------  -----  \n",
            " 0   treatment_id    200 non-null    object \n",
            " 1   appointment_id  200 non-null    object \n",
            " 2   treatment_type  200 non-null    object \n",
            " 3   description     200 non-null    object \n",
            " 4   cost            200 non-null    float64\n",
            " 5   treatment_date  200 non-null    object \n",
            "dtypes: float64(1), object(5)\n",
            "memory usage: 9.5+ KB\n",
            "None\n",
            "  treatment_id appointment_id treatment_type         description     cost  \\\n",
            "0         T001           A001   Chemotherapy     Basic screening  3941.97   \n",
            "1         T002           A002            MRI   Advanced protocol  4158.44   \n",
            "2         T003           A003            MRI  Standard procedure  3731.55   \n",
            "3         T004           A004            MRI     Basic screening  4799.86   \n",
            "4         T005           A005            ECG  Standard procedure   582.05   \n",
            "\n",
            "  treatment_date  \n",
            "0     2023-08-09  \n",
            "1     2023-06-09  \n",
            "2     2023-06-28  \n",
            "3     2023-09-01  \n",
            "4     2023-07-06   \n",
            "\n",
            "--- PATIENTS ---\n",
            "<class 'pandas.core.frame.DataFrame'>\n",
            "RangeIndex: 50 entries, 0 to 49\n",
            "Data columns (total 11 columns):\n",
            " #   Column              Non-Null Count  Dtype \n",
            "---  ------              --------------  ----- \n",
            " 0   patient_id          50 non-null     object\n",
            " 1   first_name          50 non-null     object\n",
            " 2   last_name           50 non-null     object\n",
            " 3   gender              50 non-null     object\n",
            " 4   date_of_birth       50 non-null     object\n",
            " 5   contact_number      50 non-null     int64 \n",
            " 6   address             50 non-null     object\n",
            " 7   registration_date   50 non-null     object\n",
            " 8   insurance_provider  50 non-null     object\n",
            " 9   insurance_number    50 non-null     object\n",
            " 10  email               50 non-null     object\n",
            "dtypes: int64(1), object(10)\n",
            "memory usage: 4.4+ KB\n",
            "None\n",
            "  patient_id first_name last_name gender date_of_birth  contact_number  \\\n",
            "0       P001      David  Williams      F    1955-06-04      6939585183   \n",
            "1       P002      Emily     Smith      F    1984-10-12      8228188767   \n",
            "2       P003      Laura     Jones      M    1977-08-21      8397029847   \n",
            "3       P004    Michael   Johnson      F    1981-02-20      9019443432   \n",
            "4       P005      David    Wilson      M    1960-06-23      7734463155   \n",
            "\n",
            "        address registration_date insurance_provider insurance_number  \\\n",
            "0   789 Pine Rd        2022-06-23       WellnessCorp        INS840674   \n",
            "1  321 Maple Dr        2022-01-15        PulseSecure        INS354079   \n",
            "2  321 Maple Dr        2022-02-07        PulseSecure        INS650929   \n",
            "3    123 Elm St        2021-03-02        HealthIndia        INS789944   \n",
            "4    123 Elm St        2021-09-29       MedCare Plus        INS788105   \n",
            "\n",
            "                      email  \n",
            "0   david.williams@mail.com  \n",
            "1      emily.smith@mail.com  \n",
            "2      laura.jones@mail.com  \n",
            "3  michael.johnson@mail.com  \n",
            "4     david.wilson@mail.com   \n",
            "\n",
            "--- BILLING ---\n",
            "<class 'pandas.core.frame.DataFrame'>\n",
            "RangeIndex: 200 entries, 0 to 199\n",
            "Data columns (total 7 columns):\n",
            " #   Column          Non-Null Count  Dtype  \n",
            "---  ------          --------------  -----  \n",
            " 0   bill_id         200 non-null    object \n",
            " 1   patient_id      200 non-null    object \n",
            " 2   treatment_id    200 non-null    object \n",
            " 3   bill_date       200 non-null    object \n",
            " 4   amount          200 non-null    float64\n",
            " 5   payment_method  200 non-null    object \n",
            " 6   payment_status  200 non-null    object \n",
            "dtypes: float64(1), object(6)\n",
            "memory usage: 11.1+ KB\n",
            "None\n",
            "  bill_id patient_id treatment_id   bill_date   amount payment_method  \\\n",
            "0    B001       P034         T001  2023-08-09  3941.97      Insurance   \n",
            "1    B002       P032         T002  2023-06-09  4158.44      Insurance   \n",
            "2    B003       P048         T003  2023-06-28  3731.55      Insurance   \n",
            "3    B004       P025         T004  2023-09-01  4799.86      Insurance   \n",
            "4    B005       P040         T005  2023-07-06   582.05    Credit Card   \n",
            "\n",
            "  payment_status  \n",
            "0        Pending  \n",
            "1           Paid  \n",
            "2           Paid  \n",
            "3         Failed  \n",
            "4        Pending   \n",
            "\n",
            "--- DOCTORS ---\n",
            "<class 'pandas.core.frame.DataFrame'>\n",
            "RangeIndex: 10 entries, 0 to 9\n",
            "Data columns (total 8 columns):\n",
            " #   Column            Non-Null Count  Dtype \n",
            "---  ------            --------------  ----- \n",
            " 0   doctor_id         10 non-null     object\n",
            " 1   first_name        10 non-null     object\n",
            " 2   last_name         10 non-null     object\n",
            " 3   specialization    10 non-null     object\n",
            " 4   phone_number      10 non-null     int64 \n",
            " 5   years_experience  10 non-null     int64 \n",
            " 6   hospital_branch   10 non-null     object\n",
            " 7   email             10 non-null     object\n",
            "dtypes: int64(2), object(6)\n",
            "memory usage: 772.0+ bytes\n",
            "None\n",
            "  doctor_id first_name last_name specialization  phone_number  \\\n",
            "0      D001      David    Taylor    Dermatology    8322010158   \n",
            "1      D002       Jane     Davis     Pediatrics    9004382050   \n",
            "2      D003       Jane     Smith     Pediatrics    8737740598   \n",
            "3      D004      David     Jones     Pediatrics    6594221991   \n",
            "4      D005      Sarah    Taylor    Dermatology    9118538547   \n",
            "\n",
            "   years_experience   hospital_branch                         email  \n",
            "0                17   Westside Clinic  dr.david.taylor@hospital.com  \n",
            "1                24   Eastside Clinic    dr.jane.davis@hospital.com  \n",
            "2                19   Eastside Clinic    dr.jane.smith@hospital.com  \n",
            "3                28  Central Hospital   dr.david.jones@hospital.com  \n",
            "4                26  Central Hospital  dr.sarah.taylor@hospital.com   \n",
            "\n"
          ]
        }
      ]
    },
    {
      "cell_type": "markdown",
      "source": [
        "Removing the duplicates"
      ],
      "metadata": {
        "id": "QPS-sEQfQS62"
      }
    },
    {
      "cell_type": "code",
      "source": [
        "for name, df in dataframes.items():\n",
        "    before = df.shape[0]\n",
        "    df.drop_duplicates(inplace=True)\n",
        "    after = df.shape[0]\n",
        "    print(f\"{name}: Removed {before - after} duplicates\")\n"
      ],
      "metadata": {
        "colab": {
          "base_uri": "https://localhost:8080/"
        },
        "id": "wdKTWSIMQWb-",
        "outputId": "42c9d852-fcc7-4869-b50e-76e84717348b"
      },
      "execution_count": null,
      "outputs": [
        {
          "output_type": "stream",
          "name": "stdout",
          "text": [
            "appointments: Removed 0 duplicates\n",
            "treatments: Removed 0 duplicates\n",
            "patients: Removed 0 duplicates\n",
            "billing: Removed 0 duplicates\n",
            "doctors: Removed 0 duplicates\n"
          ]
        }
      ]
    },
    {
      "cell_type": "markdown",
      "source": [
        "After removing the duplicates, Checking for missing values in this dataset"
      ],
      "metadata": {
        "id": "1ujdSEVEQbQG"
      }
    },
    {
      "cell_type": "code",
      "source": [
        "for name, df in dataframes.items():\n",
        "    print(f\"{name} missing values:\\n\", df.isnull().sum(), \"\\n\")\n"
      ],
      "metadata": {
        "colab": {
          "base_uri": "https://localhost:8080/"
        },
        "id": "LGlEpsSVQm8_",
        "outputId": "b671b7cf-6174-473c-a0c3-086fab0c79e9",
        "collapsed": true
      },
      "execution_count": null,
      "outputs": [
        {
          "output_type": "stream",
          "name": "stdout",
          "text": [
            "appointments missing values:\n",
            " appointment_id      0\n",
            "patient_id          0\n",
            "doctor_id           0\n",
            "appointment_date    0\n",
            "appointment_time    0\n",
            "reason_for_visit    0\n",
            "status              0\n",
            "dtype: int64 \n",
            "\n",
            "treatments missing values:\n",
            " treatment_id      0\n",
            "appointment_id    0\n",
            "treatment_type    0\n",
            "description       0\n",
            "cost              0\n",
            "treatment_date    0\n",
            "dtype: int64 \n",
            "\n",
            "patients missing values:\n",
            " patient_id            0\n",
            "first_name            0\n",
            "last_name             0\n",
            "gender                0\n",
            "date_of_birth         0\n",
            "contact_number        0\n",
            "address               0\n",
            "registration_date     0\n",
            "insurance_provider    0\n",
            "insurance_number      0\n",
            "email                 0\n",
            "dtype: int64 \n",
            "\n",
            "billing missing values:\n",
            " bill_id           0\n",
            "patient_id        0\n",
            "treatment_id      0\n",
            "bill_date         0\n",
            "amount            0\n",
            "payment_method    0\n",
            "payment_status    0\n",
            "dtype: int64 \n",
            "\n",
            "doctors missing values:\n",
            " doctor_id           0\n",
            "first_name          0\n",
            "last_name           0\n",
            "specialization      0\n",
            "phone_number        0\n",
            "years_experience    0\n",
            "hospital_branch     0\n",
            "email               0\n",
            "dtype: int64 \n",
            "\n"
          ]
        }
      ]
    },
    {
      "cell_type": "code",
      "source": [
        "for name, df in dataframes.items():\n",
        "    print(f\"{name} missing values:\\n\", df.isnull().sum(), \"\\n\")\n",
        "    for col in df.select_dtypes(include='object').columns:\n",
        "        df[col].fillna(\"Unknown\", inplace=True)\n",
        "#Filling missing text with \"Unknown\"\n",
        "    for col in df.select_dtypes(include=['int64','float64']).columns:\n",
        "        df[col].fillna(df[col].mean(), inplace=True)\n",
        "#Filling missing numeric values with mean."
      ],
      "metadata": {
        "colab": {
          "base_uri": "https://localhost:8080/"
        },
        "id": "QakHawWVQsW9",
        "outputId": "c5394d07-dd44-4953-82e0-90aa9139a923",
        "collapsed": true
      },
      "execution_count": null,
      "outputs": [
        {
          "output_type": "stream",
          "name": "stdout",
          "text": [
            "appointments missing values:\n",
            " appointment_id      0\n",
            "patient_id          0\n",
            "doctor_id           0\n",
            "appointment_date    0\n",
            "appointment_time    0\n",
            "reason_for_visit    0\n",
            "status              0\n",
            "dtype: int64 \n",
            "\n",
            "treatments missing values:\n",
            " treatment_id      0\n",
            "appointment_id    0\n",
            "treatment_type    0\n",
            "description       0\n",
            "cost              0\n",
            "treatment_date    0\n",
            "dtype: int64 \n",
            "\n",
            "patients missing values:\n",
            " patient_id            0\n",
            "first_name            0\n",
            "last_name             0\n",
            "gender                0\n",
            "date_of_birth         0\n",
            "contact_number        0\n",
            "address               0\n",
            "registration_date     0\n",
            "insurance_provider    0\n",
            "insurance_number      0\n",
            "email                 0\n",
            "dtype: int64 \n",
            "\n",
            "billing missing values:\n",
            " bill_id           0\n",
            "patient_id        0\n",
            "treatment_id      0\n",
            "bill_date         0\n",
            "amount            0\n",
            "payment_method    0\n",
            "payment_status    0\n",
            "dtype: int64 \n",
            "\n",
            "doctors missing values:\n",
            " doctor_id           0\n",
            "first_name          0\n",
            "last_name           0\n",
            "specialization      0\n",
            "phone_number        0\n",
            "years_experience    0\n",
            "hospital_branch     0\n",
            "email               0\n",
            "dtype: int64 \n",
            "\n"
          ]
        },
        {
          "output_type": "stream",
          "name": "stderr",
          "text": [
            "/tmp/ipython-input-1083755983.py:4: FutureWarning: A value is trying to be set on a copy of a DataFrame or Series through chained assignment using an inplace method.\n",
            "The behavior will change in pandas 3.0. This inplace method will never work because the intermediate object on which we are setting values always behaves as a copy.\n",
            "\n",
            "For example, when doing 'df[col].method(value, inplace=True)', try using 'df.method({col: value}, inplace=True)' or df[col] = df[col].method(value) instead, to perform the operation inplace on the original object.\n",
            "\n",
            "\n",
            "  df[col].fillna(\"Unknown\", inplace=True)\n",
            "/tmp/ipython-input-1083755983.py:4: FutureWarning: A value is trying to be set on a copy of a DataFrame or Series through chained assignment using an inplace method.\n",
            "The behavior will change in pandas 3.0. This inplace method will never work because the intermediate object on which we are setting values always behaves as a copy.\n",
            "\n",
            "For example, when doing 'df[col].method(value, inplace=True)', try using 'df.method({col: value}, inplace=True)' or df[col] = df[col].method(value) instead, to perform the operation inplace on the original object.\n",
            "\n",
            "\n",
            "  df[col].fillna(\"Unknown\", inplace=True)\n",
            "/tmp/ipython-input-1083755983.py:7: FutureWarning: A value is trying to be set on a copy of a DataFrame or Series through chained assignment using an inplace method.\n",
            "The behavior will change in pandas 3.0. This inplace method will never work because the intermediate object on which we are setting values always behaves as a copy.\n",
            "\n",
            "For example, when doing 'df[col].method(value, inplace=True)', try using 'df.method({col: value}, inplace=True)' or df[col] = df[col].method(value) instead, to perform the operation inplace on the original object.\n",
            "\n",
            "\n",
            "  df[col].fillna(df[col].mean(), inplace=True)\n",
            "/tmp/ipython-input-1083755983.py:4: FutureWarning: A value is trying to be set on a copy of a DataFrame or Series through chained assignment using an inplace method.\n",
            "The behavior will change in pandas 3.0. This inplace method will never work because the intermediate object on which we are setting values always behaves as a copy.\n",
            "\n",
            "For example, when doing 'df[col].method(value, inplace=True)', try using 'df.method({col: value}, inplace=True)' or df[col] = df[col].method(value) instead, to perform the operation inplace on the original object.\n",
            "\n",
            "\n",
            "  df[col].fillna(\"Unknown\", inplace=True)\n",
            "/tmp/ipython-input-1083755983.py:7: FutureWarning: A value is trying to be set on a copy of a DataFrame or Series through chained assignment using an inplace method.\n",
            "The behavior will change in pandas 3.0. This inplace method will never work because the intermediate object on which we are setting values always behaves as a copy.\n",
            "\n",
            "For example, when doing 'df[col].method(value, inplace=True)', try using 'df.method({col: value}, inplace=True)' or df[col] = df[col].method(value) instead, to perform the operation inplace on the original object.\n",
            "\n",
            "\n",
            "  df[col].fillna(df[col].mean(), inplace=True)\n",
            "/tmp/ipython-input-1083755983.py:4: FutureWarning: A value is trying to be set on a copy of a DataFrame or Series through chained assignment using an inplace method.\n",
            "The behavior will change in pandas 3.0. This inplace method will never work because the intermediate object on which we are setting values always behaves as a copy.\n",
            "\n",
            "For example, when doing 'df[col].method(value, inplace=True)', try using 'df.method({col: value}, inplace=True)' or df[col] = df[col].method(value) instead, to perform the operation inplace on the original object.\n",
            "\n",
            "\n",
            "  df[col].fillna(\"Unknown\", inplace=True)\n",
            "/tmp/ipython-input-1083755983.py:7: FutureWarning: A value is trying to be set on a copy of a DataFrame or Series through chained assignment using an inplace method.\n",
            "The behavior will change in pandas 3.0. This inplace method will never work because the intermediate object on which we are setting values always behaves as a copy.\n",
            "\n",
            "For example, when doing 'df[col].method(value, inplace=True)', try using 'df.method({col: value}, inplace=True)' or df[col] = df[col].method(value) instead, to perform the operation inplace on the original object.\n",
            "\n",
            "\n",
            "  df[col].fillna(df[col].mean(), inplace=True)\n",
            "/tmp/ipython-input-1083755983.py:4: FutureWarning: A value is trying to be set on a copy of a DataFrame or Series through chained assignment using an inplace method.\n",
            "The behavior will change in pandas 3.0. This inplace method will never work because the intermediate object on which we are setting values always behaves as a copy.\n",
            "\n",
            "For example, when doing 'df[col].method(value, inplace=True)', try using 'df.method({col: value}, inplace=True)' or df[col] = df[col].method(value) instead, to perform the operation inplace on the original object.\n",
            "\n",
            "\n",
            "  df[col].fillna(\"Unknown\", inplace=True)\n",
            "/tmp/ipython-input-1083755983.py:7: FutureWarning: A value is trying to be set on a copy of a DataFrame or Series through chained assignment using an inplace method.\n",
            "The behavior will change in pandas 3.0. This inplace method will never work because the intermediate object on which we are setting values always behaves as a copy.\n",
            "\n",
            "For example, when doing 'df[col].method(value, inplace=True)', try using 'df.method({col: value}, inplace=True)' or df[col] = df[col].method(value) instead, to perform the operation inplace on the original object.\n",
            "\n",
            "\n",
            "  df[col].fillna(df[col].mean(), inplace=True)\n"
          ]
        }
      ]
    },
    {
      "cell_type": "markdown",
      "source": [
        "Fixing the data types, converting date colomns."
      ],
      "metadata": {
        "id": "2EHXjpn5ROyu"
      }
    },
    {
      "cell_type": "code",
      "source": [
        "for name, df in dataframes.items():\n",
        "    for col in df.columns:\n",
        "        if \"date\" in col.lower():\n",
        "            df[col] = pd.to_datetime(df[col], errors='coerce')\n"
      ],
      "metadata": {
        "id": "ciOOAIBbRRXO"
      },
      "execution_count": null,
      "outputs": []
    },
    {
      "cell_type": "markdown",
      "source": [
        "Standardising text data"
      ],
      "metadata": {
        "id": "ywXNMbq7RUw9"
      }
    },
    {
      "cell_type": "code",
      "source": [
        "for name, df in dataframes.items():\n",
        "    for col in df.select_dtypes(include='object').columns:\n",
        "        df[col] = df[col].str.strip().str.title()\n"
      ],
      "metadata": {
        "id": "4nZ9bMC4SFtF"
      },
      "execution_count": null,
      "outputs": []
    },
    {
      "cell_type": "markdown",
      "source": [
        "Saving Cleaned files"
      ],
      "metadata": {
        "id": "OrIMT4eqSQtO"
      }
    },
    {
      "cell_type": "code",
      "source": [
        "for name, df in dataframes.items():\n",
        "    save_path = f'/content/drive/My Drive/{name}_cleaned.csv'\n",
        "    df.to_csv(save_path, index=False)\n",
        "    print(f\"Saved cleaned {name} to {save_path}\")\n"
      ],
      "metadata": {
        "colab": {
          "base_uri": "https://localhost:8080/"
        },
        "id": "LLeyjLKqSX2e",
        "outputId": "db1f09c1-82b9-48fb-9f98-d37e81470338"
      },
      "execution_count": null,
      "outputs": [
        {
          "output_type": "stream",
          "name": "stdout",
          "text": [
            "Saved cleaned appointments to /content/drive/My Drive/appointments_cleaned.csv\n",
            "Saved cleaned treatments to /content/drive/My Drive/treatments_cleaned.csv\n",
            "Saved cleaned patients to /content/drive/My Drive/patients_cleaned.csv\n",
            "Saved cleaned billing to /content/drive/My Drive/billing_cleaned.csv\n",
            "Saved cleaned doctors to /content/drive/My Drive/doctors_cleaned.csv\n"
          ]
        }
      ]
    },
    {
      "cell_type": "markdown",
      "source": [
        "Checking the first fewq rows of the datasets"
      ],
      "metadata": {
        "id": "SlvfMQeOSrUN"
      }
    },
    {
      "cell_type": "code",
      "source": [
        "for name, df in dataframes.items():\n",
        "    print(f\"\\n--- {name.upper()} (First 5 rows) ---\")\n",
        "    print(df.head())\n"
      ],
      "metadata": {
        "colab": {
          "base_uri": "https://localhost:8080/"
        },
        "id": "7yOXwnqNSxU8",
        "outputId": "36900263-bd21-402d-9d8a-3e3966d1f0d9"
      },
      "execution_count": null,
      "outputs": [
        {
          "output_type": "stream",
          "name": "stdout",
          "text": [
            "\n",
            "--- APPOINTMENTS (First 5 rows) ---\n",
            "  appointment_id patient_id doctor_id appointment_date appointment_time  \\\n",
            "0           A001       P034      D009       2023-08-09         15:15:00   \n",
            "1           A002       P032      D004       2023-06-09         14:30:00   \n",
            "2           A003       P048      D004       2023-06-28          8:00:00   \n",
            "3           A004       P025      D006       2023-09-01          9:15:00   \n",
            "4           A005       P040      D003       2023-07-06         12:45:00   \n",
            "\n",
            "  reason_for_visit     status  \n",
            "0          Therapy  Scheduled  \n",
            "1          Therapy    No-show  \n",
            "2     Consultation  Cancelled  \n",
            "3     Consultation  Cancelled  \n",
            "4        Emergency    No-show  \n",
            "\n",
            "--- TREATMENTS (First 5 rows) ---\n",
            "  treatment_id appointment_id treatment_type         description     cost  \\\n",
            "0         T001           A001   Chemotherapy     Basic screening  3941.97   \n",
            "1         T002           A002            MRI   Advanced protocol  4158.44   \n",
            "2         T003           A003            MRI  Standard procedure  3731.55   \n",
            "3         T004           A004            MRI     Basic screening  4799.86   \n",
            "4         T005           A005            ECG  Standard procedure   582.05   \n",
            "\n",
            "  treatment_date  \n",
            "0     2023-08-09  \n",
            "1     2023-06-09  \n",
            "2     2023-06-28  \n",
            "3     2023-09-01  \n",
            "4     2023-07-06  \n",
            "\n",
            "--- PATIENTS (First 5 rows) ---\n",
            "  patient_id first_name last_name gender date_of_birth  contact_number  \\\n",
            "0       P001      David  Williams      F    1955-06-04      6939585183   \n",
            "1       P002      Emily     Smith      F    1984-10-12      8228188767   \n",
            "2       P003      Laura     Jones      M    1977-08-21      8397029847   \n",
            "3       P004    Michael   Johnson      F    1981-02-20      9019443432   \n",
            "4       P005      David    Wilson      M    1960-06-23      7734463155   \n",
            "\n",
            "        address registration_date insurance_provider insurance_number  \\\n",
            "0   789 Pine Rd        2022-06-23       WellnessCorp        INS840674   \n",
            "1  321 Maple Dr        2022-01-15        PulseSecure        INS354079   \n",
            "2  321 Maple Dr        2022-02-07        PulseSecure        INS650929   \n",
            "3    123 Elm St        2021-03-02        HealthIndia        INS789944   \n",
            "4    123 Elm St        2021-09-29       MedCare Plus        INS788105   \n",
            "\n",
            "                      email  \n",
            "0   david.williams@mail.com  \n",
            "1      emily.smith@mail.com  \n",
            "2      laura.jones@mail.com  \n",
            "3  michael.johnson@mail.com  \n",
            "4     david.wilson@mail.com  \n",
            "\n",
            "--- BILLING (First 5 rows) ---\n",
            "  bill_id patient_id treatment_id  bill_date   amount payment_method  \\\n",
            "0    B001       P034         T001 2023-08-09  3941.97      Insurance   \n",
            "1    B002       P032         T002 2023-06-09  4158.44      Insurance   \n",
            "2    B003       P048         T003 2023-06-28  3731.55      Insurance   \n",
            "3    B004       P025         T004 2023-09-01  4799.86      Insurance   \n",
            "4    B005       P040         T005 2023-07-06   582.05    Credit Card   \n",
            "\n",
            "  payment_status  \n",
            "0        Pending  \n",
            "1           Paid  \n",
            "2           Paid  \n",
            "3         Failed  \n",
            "4        Pending  \n",
            "\n",
            "--- DOCTORS (First 5 rows) ---\n",
            "  doctor_id first_name last_name specialization  phone_number  \\\n",
            "0      D001      David    Taylor    Dermatology    8322010158   \n",
            "1      D002       Jane     Davis     Pediatrics    9004382050   \n",
            "2      D003       Jane     Smith     Pediatrics    8737740598   \n",
            "3      D004      David     Jones     Pediatrics    6594221991   \n",
            "4      D005      Sarah    Taylor    Dermatology    9118538547   \n",
            "\n",
            "   years_experience   hospital_branch                         email  \n",
            "0                17   Westside Clinic  dr.david.taylor@hospital.com  \n",
            "1                24   Eastside Clinic    dr.jane.davis@hospital.com  \n",
            "2                19   Eastside Clinic    dr.jane.smith@hospital.com  \n",
            "3                28  Central Hospital   dr.david.jones@hospital.com  \n",
            "4                26  Central Hospital  dr.sarah.taylor@hospital.com  \n"
          ]
        }
      ]
    },
    {
      "cell_type": "markdown",
      "source": [
        "Searching for Relations in the Dataset\n",
        "\n",
        "In this section, we will search the dataset for specific relationships between nodes.  \n"
      ],
      "metadata": {
        "id": "uJwYyNRpT06L"
      }
    },
    {
      "cell_type": "markdown",
      "source": [
        "Looking at the colomn names"
      ],
      "metadata": {
        "id": "Z_5HGY4EUZBj"
      }
    },
    {
      "cell_type": "code",
      "source": [
        "for name, df in dataframes.items():\n",
        "    print(f\"\\n{name.upper()} columns: {df.columns.tolist()}\")\n"
      ],
      "metadata": {
        "colab": {
          "base_uri": "https://localhost:8080/"
        },
        "id": "JPyJsHgEUb5T",
        "outputId": "5b92f12c-36e2-447d-a95c-14ca81f4220e"
      },
      "execution_count": null,
      "outputs": [
        {
          "output_type": "stream",
          "name": "stdout",
          "text": [
            "\n",
            "APPOINTMENTS columns: ['appointment_id', 'patient_id', 'doctor_id', 'appointment_date', 'appointment_time', 'reason_for_visit', 'status']\n",
            "\n",
            "TREATMENTS columns: ['treatment_id', 'appointment_id', 'treatment_type', 'description', 'cost', 'treatment_date']\n",
            "\n",
            "PATIENTS columns: ['patient_id', 'first_name', 'last_name', 'gender', 'date_of_birth', 'contact_number', 'address', 'registration_date', 'insurance_provider', 'insurance_number', 'email']\n",
            "\n",
            "BILLING columns: ['bill_id', 'patient_id', 'treatment_id', 'bill_date', 'amount', 'payment_method', 'payment_status']\n",
            "\n",
            "DOCTORS columns: ['doctor_id', 'first_name', 'last_name', 'specialization', 'phone_number', 'years_experience', 'hospital_branch', 'email']\n"
          ]
        }
      ]
    },
    {
      "cell_type": "markdown",
      "source": [
        "Checking for unique IDs (Primary keys)"
      ],
      "metadata": {
        "id": "kyhx_SqyUhNz"
      }
    },
    {
      "cell_type": "code",
      "source": [
        "for name, df in dataframes.items():\n",
        "    for col in df.columns:\n",
        "        if df[col].is_unique:\n",
        "            print(f\"{col} could be a PRIMARY KEY in {name}\")\n"
      ],
      "metadata": {
        "colab": {
          "base_uri": "https://localhost:8080/"
        },
        "id": "zChfhf0-UpOr",
        "outputId": "99a238d1-cd33-40e8-94b0-fb947783a2f3"
      },
      "execution_count": null,
      "outputs": [
        {
          "output_type": "stream",
          "name": "stdout",
          "text": [
            "appointment_id could be a PRIMARY KEY in appointments\n",
            "treatment_id could be a PRIMARY KEY in treatments\n",
            "appointment_id could be a PRIMARY KEY in treatments\n",
            "cost could be a PRIMARY KEY in treatments\n",
            "patient_id could be a PRIMARY KEY in patients\n",
            "contact_number could be a PRIMARY KEY in patients\n",
            "registration_date could be a PRIMARY KEY in patients\n",
            "insurance_number could be a PRIMARY KEY in patients\n",
            "bill_id could be a PRIMARY KEY in billing\n",
            "treatment_id could be a PRIMARY KEY in billing\n",
            "amount could be a PRIMARY KEY in billing\n",
            "doctor_id could be a PRIMARY KEY in doctors\n",
            "phone_number could be a PRIMARY KEY in doctors\n",
            "email could be a PRIMARY KEY in doctors\n"
          ]
        }
      ]
    },
    {
      "cell_type": "markdown",
      "source": [
        "Checking for shared IDs(Foreign Keys)"
      ],
      "metadata": {
        "id": "g2RRMpEvUvIT"
      }
    },
    {
      "cell_type": "code",
      "source": [
        "# Checking how many patient_ids match between patients and appointments\n",
        "common_patients = set(dataframes['appointments']['patient_id']).intersection(\n",
        "                  set(dataframes['patients']['patient_id']))\n",
        "print(f\"Matching patient_ids: {len(common_patients)}\")\n"
      ],
      "metadata": {
        "colab": {
          "base_uri": "https://localhost:8080/"
        },
        "id": "9_dg7SaYU0Wy",
        "outputId": "3a02afdb-5694-4cdd-823c-2723de9d5603"
      },
      "execution_count": null,
      "outputs": [
        {
          "output_type": "stream",
          "name": "stdout",
          "text": [
            "Matching patient_ids: 48\n"
          ]
        }
      ]
    },
    {
      "cell_type": "markdown",
      "source": [
        "Creating the entity relationship chart"
      ],
      "metadata": {
        "id": "bjLqxtXRVAka"
      }
    },
    {
      "cell_type": "code",
      "source": [
        "import matplotlib.pyplot as plt\n",
        "\n",
        "# Example: number of rows in each dataframe (entity)\n",
        "entity_counts = {name: df.shape[0] for name, df in dataframes.items()}\n",
        "\n",
        "# Plot pie chart\n",
        "plt.figure(figsize=(7,7))\n",
        "plt.pie(entity_counts.values(), labels=entity_counts.keys(), autopct='%1.1f%%', startangle=140)\n",
        "plt.title('Proportion of Records in Each Entity (Table)')\n",
        "plt.show()\n"
      ],
      "metadata": {
        "colab": {
          "base_uri": "https://localhost:8080/",
          "height": 598
        },
        "id": "mmzSAB9rVqvZ",
        "outputId": "605f15fa-99e0-4b68-f23c-f9ce001d0699"
      },
      "execution_count": null,
      "outputs": [
        {
          "output_type": "display_data",
          "data": {
            "text/plain": [
              "<Figure size 700x700 with 1 Axes>"
            ],
            "image/png": "[encoded data removed]"
          },
          "metadata": {}
        }
      ]
    },
    {
      "cell_type": "markdown",
      "source": [
        "Random forest\n",
        "\n",
        "we are going to pick one dataframe, i will start by searching for perfect target        "
      ],
      "metadata": {
        "id": "szrlWtB0WJ5R"
      }
    },
    {
      "cell_type": "code",
      "source": [
        "print(df.columns)\n",
        "print(df.head())\n"
      ],
      "metadata": {
        "colab": {
          "base_uri": "https://localhost:8080/"
        },
        "id": "rpcDx1Z6bb5r",
        "outputId": "f4461945-6279-48aa-8af4-5dbdca4eeb4c"
      },
      "execution_count": null,
      "outputs": [
        {
          "output_type": "stream",
          "name": "stdout",
          "text": [
            "Index(['doctor_id', 'first_name', 'last_name', 'specialization',\n",
            "       'phone_number', 'years_experience', 'hospital_branch', 'email'],\n",
            "      dtype='object')\n",
            "  doctor_id first_name last_name specialization  phone_number  \\\n",
            "0      D001      David    Taylor    Dermatology    8322010158   \n",
            "1      D002       Jane     Davis     Pediatrics    9004382050   \n",
            "2      D003       Jane     Smith     Pediatrics    8737740598   \n",
            "3      D004      David     Jones     Pediatrics    6594221991   \n",
            "4      D005      Sarah    Taylor    Dermatology    9118538547   \n",
            "\n",
            "   years_experience   hospital_branch                         email  \n",
            "0                17   Westside Clinic  dr.david.taylor@hospital.com  \n",
            "1                24   Eastside Clinic    dr.jane.davis@hospital.com  \n",
            "2                19   Eastside Clinic    dr.jane.smith@hospital.com  \n",
            "3                28  Central Hospital   dr.david.jones@hospital.com  \n",
            "4                26  Central Hospital  dr.sarah.taylor@hospital.com  \n"
          ]
        }
      ]
    },
    {
      "cell_type": "code",
      "source": [
        "from sklearn.model_selection import train_test_split\n",
        "from sklearn.ensemble import RandomForestClassifier\n",
        "from sklearn.linear_model import LogisticRegression\n",
        "from sklearn.metrics import classification_report, confusion_matrix, accuracy_score\n",
        "import pandas as pd\n",
        "\n",
        "# Copy the billing DataFrame\n",
        "df = dataframes['billing'].copy()\n",
        "\n",
        "# Target column\n",
        "target_col = 'payment_method '\n",
        "\n",
        "\n",
        "df = df.dropna(subset=[target_col])\n",
        "\n",
        "# Features and target\n",
        "X = df.drop(columns=[target_col])\n",
        "y = df[target_col]\n",
        "\n",
        "# Handle missing values in features\n",
        "X = X.fillna(method='ffill').fillna(method='bfill')\n",
        "\n",
        "# Convert categorical variables to dummies\n",
        "X = pd.get_dummies(X)\n",
        "\n",
        "# Split into train and test sets\n",
        "X_train, X_test, y_train, y_test = train_test_split(\n",
        "    X, y, test_size=0.2, random_state=42\n",
        ")\n",
        "\n",
        "# --- Random Forest ---\n",
        "rf = RandomForestClassifier(n_estimators=100, random_state=42)\n",
        "rf.fit(X_train, y_train)\n",
        "rf_pred = rf.predict(X_test)\n",
        "\n",
        "print(\"Random Forest Results:\")\n",
        "print(\"Accuracy:\", accuracy_score(y_test, rf_pred))\n",
        "print(\"Confusion Matrix:\\n\", confusion_matrix(y_test, rf_pred))\n",
        "print(\"Classification Report:\\n\", classification_report(y_test, rf_pred))\n",
        "\n",
        "# --- Logistic Regression ---\n",
        "lr = LogisticRegression(max_iter=1000, random_state=42)\n",
        "lr.fit(X_train, y_train)\n",
        "lr_pred = lr.predict(X_test)\n",
        "\n",
        "print(\"\\nLogistic Regression Results:\")\n",
        "print(\"Accuracy:\", accuracy_score(y_test, lr_pred))\n",
        "print(\"Confusion Matrix:\\n\", confusion_matrix(y_test, lr_pred))\n",
        "print(\"Classification Report:\\n\", classification_report(y_test, lr_pred))\n"
      ],
      "metadata": {
        "colab": {
          "base_uri": "https://localhost:8080/",
          "height": 349
        },
        "collapsed": true,
        "id": "yw2r1v-vdf1f",
        "outputId": "df07beda-a2b1-434b-de73-044b95d43217"
      },
      "execution_count": null,
      "outputs": [
        {
          "output_type": "error",
          "ename": "KeyError",
          "evalue": "['payment_method ']",
          "traceback": [
            "\u001b[0;31m---------------------------------------------------------------------------\u001b[0m",
            "\u001b[0;31mKeyError\u001b[0m                                  Traceback (most recent call last)",
            "\u001b[0;32m/tmp/ipython-input-437179417.py\u001b[0m in \u001b[0;36m<cell line: 0>\u001b[0;34m()\u001b[0m\n\u001b[1;32m     12\u001b[0m \u001b[0;34m\u001b[0m\u001b[0m\n\u001b[1;32m     13\u001b[0m \u001b[0;34m\u001b[0m\u001b[0m\n\u001b[0;32m---> 14\u001b[0;31m \u001b[0mdf\u001b[0m \u001b[0;34m=\u001b[0m \u001b[0mdf\u001b[0m\u001b[0;34m.\u001b[0m\u001b[0mdropna\u001b[0m\u001b[0;34m(\u001b[0m\u001b[0msubset\u001b[0m\u001b[0;34m=\u001b[0m\u001b[0;34m[\u001b[0m\u001b[0mtarget_col\u001b[0m\u001b[0;34m]\u001b[0m\u001b[0;34m)\u001b[0m\u001b[0;34m\u001b[0m\u001b[0;34m\u001b[0m\u001b[0m\n\u001b[0m\u001b[1;32m     15\u001b[0m \u001b[0;34m\u001b[0m\u001b[0m\n\u001b[1;32m     16\u001b[0m \u001b[0;31m# Features and target\u001b[0m\u001b[0;34m\u001b[0m\u001b[0;34m\u001b[0m\u001b[0m\n",
            "\u001b[0;32m/usr/local/lib/python3.11/dist-packages/pandas/core/frame.py\u001b[0m in \u001b[0;36mdropna\u001b[0;34m(self, axis, how, thresh, subset, inplace, ignore_index)\u001b[0m\n\u001b[1;32m   6668\u001b[0m             \u001b[0mcheck\u001b[0m \u001b[0;34m=\u001b[0m \u001b[0mindices\u001b[0m \u001b[0;34m==\u001b[0m \u001b[0;34m-\u001b[0m\u001b[0;36m1\u001b[0m\u001b[0;34m\u001b[0m\u001b[0;34m\u001b[0m\u001b[0m\n\u001b[1;32m   6669\u001b[0m             \u001b[0;32mif\u001b[0m \u001b[0mcheck\u001b[0m\u001b[0;34m.\u001b[0m\u001b[0many\u001b[0m\u001b[0;34m(\u001b[0m\u001b[0;34m)\u001b[0m\u001b[0;34m:\u001b[0m\u001b[0;34m\u001b[0m\u001b[0;34m\u001b[0m\u001b[0m\n\u001b[0;32m-> 6670\u001b[0;31m                 \u001b[0;32mraise\u001b[0m \u001b[0mKeyError\u001b[0m\u001b[0;34m(\u001b[0m\u001b[0mnp\u001b[0m\u001b[0;34m.\u001b[0m\u001b[0marray\u001b[0m\u001b[0;34m(\u001b[0m\u001b[0msubset\u001b[0m\u001b[0;34m)\u001b[0m\u001b[0;34m[\u001b[0m\u001b[0mcheck\u001b[0m\u001b[0;34m]\u001b[0m\u001b[0;34m.\u001b[0m\u001b[0mtolist\u001b[0m\u001b[0;34m(\u001b[0m\u001b[0;34m)\u001b[0m\u001b[0;34m)\u001b[0m\u001b[0;34m\u001b[0m\u001b[0;34m\u001b[0m\u001b[0m\n\u001b[0m\u001b[1;32m   6671\u001b[0m             \u001b[0magg_obj\u001b[0m \u001b[0;34m=\u001b[0m \u001b[0mself\u001b[0m\u001b[0;34m.\u001b[0m\u001b[0mtake\u001b[0m\u001b[0;34m(\u001b[0m\u001b[0mindices\u001b[0m\u001b[0;34m,\u001b[0m \u001b[0maxis\u001b[0m\u001b[0;34m=\u001b[0m\u001b[0magg_axis\u001b[0m\u001b[0;34m)\u001b[0m\u001b[0;34m\u001b[0m\u001b[0;34m\u001b[0m\u001b[0m\n\u001b[1;32m   6672\u001b[0m \u001b[0;34m\u001b[0m\u001b[0m\n",
            "\u001b[0;31mKeyError\u001b[0m: ['payment_method ']"
          ]
        }
      ]
    }
  ]
}